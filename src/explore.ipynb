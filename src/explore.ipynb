{
    "cells": [
        {
            "cell_type": "markdown",
            "metadata": {},
            "source": [
                "# Explore here"
            ]
        },
        {
            "cell_type": "code",
            "execution_count": 31,
            "metadata": {},
            "outputs": [
                {
                    "data": {
                        "text/html": [
                            "<div>\n",
                            "<style scoped>\n",
                            "    .dataframe tbody tr th:only-of-type {\n",
                            "        vertical-align: middle;\n",
                            "    }\n",
                            "\n",
                            "    .dataframe tbody tr th {\n",
                            "        vertical-align: top;\n",
                            "    }\n",
                            "\n",
                            "    .dataframe thead th {\n",
                            "        text-align: right;\n",
                            "    }\n",
                            "</style>\n",
                            "<table border=\"1\" class=\"dataframe\">\n",
                            "  <thead>\n",
                            "    <tr style=\"text-align: right;\">\n",
                            "      <th></th>\n",
                            "      <th>name</th>\n",
                            "      <th>popularity</th>\n",
                            "      <th>duration_ms</th>\n",
                            "    </tr>\n",
                            "  </thead>\n",
                            "  <tbody>\n",
                            "    <tr>\n",
                            "      <th>1</th>\n",
                            "      <td>She Will</td>\n",
                            "      <td>75</td>\n",
                            "      <td>305840</td>\n",
                            "    </tr>\n",
                            "    <tr>\n",
                            "      <th>4</th>\n",
                            "      <td>Passionfruit</td>\n",
                            "      <td>79</td>\n",
                            "      <td>298940</td>\n",
                            "    </tr>\n",
                            "    <tr>\n",
                            "      <th>6</th>\n",
                            "      <td>CN TOWER</td>\n",
                            "      <td>78</td>\n",
                            "      <td>241889</td>\n",
                            "    </tr>\n",
                            "  </tbody>\n",
                            "</table>\n",
                            "</div>"
                        ],
                        "text/plain": [
                            "           name  popularity  duration_ms\n",
                            "1      She Will          75       305840\n",
                            "4  Passionfruit          79       298940\n",
                            "6      CN TOWER          78       241889"
                        ]
                    },
                    "execution_count": 31,
                    "metadata": {},
                    "output_type": "execute_result"
                }
            ],
            "source": [
                "import os\n",
                "import pandas as pd\n",
                "from dotenv import load_dotenv\n",
                "import spotipy\n",
                "from spotipy.oauth2 import SpotifyClientCredentials\n",
                "\n",
                "# load the .env file variables\n",
                "\n",
                "import os\n",
                "\n",
                "client_id = \"cd18c256d7f344a4991091bbddea2ca7\"\n",
                "client_secret =\"c241c30cfda8495b8e430fef626c0081\"\n",
                "Drake_id = \"spotify:artist:3TVXtAsR1Inumwj472S9r4\"\n",
                "spotify = spotipy.Spotify(auth_manager=SpotifyClientCredentials(client_id=client_id, client_secret=client_secret))\n",
                "artist_id = \"3TVXtAsR1Inumwj472S9r4\"\n",
                "\n",
                "result = spotify.artist_top_tracks(\"3TVXtAsR1Inumwj472S9r4\")\n",
                "if result:\n",
                "  tracks = result[\"tracks\"]\n",
                "  tracks\n",
                "tabla = pd.DataFrame(tracks)\n",
                "tabla\n",
                "#print(tabla.columns)\n",
                "popularidad = tabla[['name', 'popularity','duration_ms']]\n",
                "popularidad\n",
                "mas_populares = popularidad.sort_values('duration_ms', ascending = False)\n",
                "mas_populares \n",
                "top_3 = mas_populares.head(3)\n",
                "top_3"
            ]
        }
    ],
    "metadata": {
        "kernelspec": {
            "display_name": "Python 3",
            "language": "python",
            "name": "python3"
        },
        "language_info": {
            "codemirror_mode": {
                "name": "ipython",
                "version": 3
            },
            "file_extension": ".py",
            "mimetype": "text/x-python",
            "name": "python",
            "nbconvert_exporter": "python",
            "pygments_lexer": "ipython3",
            "version": "3.11.4"
        },
        "orig_nbformat": 4
    },
    "nbformat": 4,
    "nbformat_minor": 2
}
